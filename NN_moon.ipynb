{
  "nbformat": 4,
  "nbformat_minor": 0,
  "metadata": {
    "colab": {
      "name": "NN_moon.ipynb",
      "version": "0.3.2",
      "provenance": [],
      "collapsed_sections": [],
      "include_colab_link": true
    },
    "kernelspec": {
      "name": "python3",
      "display_name": "Python 3"
    }
  },
  "cells": [
    {
      "cell_type": "markdown",
      "metadata": {
        "id": "view-in-github",
        "colab_type": "text"
      },
      "source": [
        "<a href=\"https://colab.research.google.com/github/mayank-liv/Winter_practice_ML/blob/master/NN_moon.ipynb\" target=\"_parent\"><img src=\"https://colab.research.google.com/assets/colab-badge.svg\" alt=\"Open In Colab\"/></a>"
      ]
    },
    {
      "metadata": {
        "id": "x_iXehjrGUkU",
        "colab_type": "code",
        "colab": {}
      },
      "cell_type": "code",
      "source": [
        "from google.colab import files"
      ],
      "execution_count": 0,
      "outputs": []
    },
    {
      "metadata": {
        "id": "HO1GYrp0GXrh",
        "colab_type": "code",
        "outputId": "49c47a49-1102-4155-cdd3-089e7f8db694",
        "colab": {
          "resources": {
            "http://localhost:8080/nbextensions/google.colab/files.js": {
              "data": "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",
              "ok": true,
              "headers": [
                [
                  "content-type",
                  "application/javascript"
                ]
              ],
              "status": 200,
              "status_text": ""
            }
          },
          "base_uri": "https://localhost:8080/",
          "height": 111
        }
      },
      "cell_type": "code",
      "source": [
        "files.upload()"
      ],
      "execution_count": 0,
      "outputs": [
        {
          "output_type": "display_data",
          "data": {
            "text/html": [
              "\n",
              "     <input type=\"file\" id=\"files-b1c3037d-3932-4888-a7b3-657395a8cdde\" name=\"files[]\" multiple disabled />\n",
              "     <output id=\"result-b1c3037d-3932-4888-a7b3-657395a8cdde\">\n",
              "      Upload widget is only available when the cell has been executed in the\n",
              "      current browser session. Please rerun this cell to enable.\n",
              "      </output>\n",
              "      <script src=\"/nbextensions/google.colab/files.js\"></script> "
            ],
            "text/plain": [
              "<IPython.core.display.HTML object>"
            ]
          },
          "metadata": {
            "tags": []
          }
        },
        {
          "output_type": "stream",
          "text": [
            "Saving Moon.txt to Moon (2).txt\n"
          ],
          "name": "stdout"
        },
        {
          "output_type": "execute_result",
          "data": {
            "text/plain": [
              "{'Moon.txt': b'-2.9427,3.5878,0\\n1.1986,1.2473,0\\n1.4453,0.94387,0\\n2.5198,3.85,0\\n3.3139,-2.5384,0\\n-3.386,1.0913,0\\n3.385,-0.14871,0\\n1.7762,2.0934,0\\n-2.8435,2.9787,0\\n-4.699,-1.4026,0\\n-2.7364,1.0436,0\\n2.0161,1.0174,0\\n-1.5726,2.645,0\\n0.90138,4.432,0\\n2.0879,2.6499,0\\n0.8725,-0.18077,0\\n2.427,-4.191,0\\n2.5265,-1.9343,0\\n-0.75493,-0.25503,0\\n-2.7902,1.6697,0\\n-2.2518,-0.62691,0\\n-3.4715,1.6756,0\\n-3.8662,0.63576,0\\n3.4646,-0.49608,0\\n3.9633,1.8148,0\\n-4.0224,-2.1824,0\\n2.0487,1.2278,0\\n-0.50503,4.8029,0\\n-1.1983,-0.83222,0\\n2.4507,-1.0229,0\\n-0.089376,-2.8221,0\\n-0.26336,2.4775,0\\n-1.522,2.6274,0\\n-0.46134,0.30624,0\\n2.9771,-1.1558,0\\n4.7421,-0.62358,0\\n2.8811,2.4219,0\\n0.26605,1.7149,0\\n-0.39639,-3.5353,0\\n1.3212,1.6227,0\\n-0.73215,-2.7402,0\\n-2.9575,3.2798,0\\n-4.4729,2.142,0\\n2.5986,-1.9071,0\\n-0.55233,1.147,0\\n1.3541,-2.2026,0\\n4.7047,1.4839,0\\n-1.4663,-1.8598,0\\n-1.4378,3.1872,0\\n-4.0383,-2.3344,0\\n-3.6062,-1.5685,0\\n2.7553,1.8822,0\\n-0.18702,0.042696,0\\n-2.8271,-0.81663,0\\n-0.30419,3.2543,0\\n0.79748,-3.5069,0\\n0.11155,-4.0022,0\\n-0.19219,-3.362,0\\n4.2303,-1.8688,0\\n0.92275,1.7983,0\\n-3.7712,-0.19945,0\\n-1.969,-1.3564,0\\n-2.1712,0.44964,0\\n0.24346,3.5326,0\\n-3.7645,-1.307,0\\n4.0062,-2.5296,0\\n-4.6214,0.84707,0\\n-2.032,1.3055,0\\n-3.3147,0.73658,0\\n1.2367,-1.4289,0\\n3.8345,0.83416,0\\n-1.7174,-0.78249,0\\n-1.1296,2.4541,0\\n-0.24369,-0.32592,0\\n-1.7111,-1.2793,0\\n2.8265,2.9535,0\\n-1.9444,-1.3763,0\\n-0.55016,2.2652,0\\n-0.31237,-4.1906,0\\n1.1936,-4.122,0\\n-3.1273,0.96144,0\\n-2.9941,-1.467,0\\n-0.30566,0.07306,0\\n4.3724,-2.2595,0\\n-3.483,2.9896,0\\n-1.6043,-2.6341,0\\n-2.0444,-2.9353,0\\n-4.5839,-1.8457,0\\n2.9688,0.24511,0\\n-4.9362,0.62735,0\\n1.2357,-3.3264,0\\n-2.1315,3.1846,0\\n-2.6461,3.6946,0\\n4.5498,-0.87871,0\\n2.4436,-0.14734,0\\n0.59764,0.057002,0\\n3.0731,2.2368,0\\n0.9413,1.8421,0\\n3.0921,1.8425,0\\n-2.104,3.8826,0\\n0.50165,-2.0579,0\\n2.4927,-3.3911,0\\n-2.9779,-2.0418,0\\n-2.8029,-0.94934,0\\n-0.72744,1.8724,0\\n-2.883,-3.1393,0\\n-3.7766,2.8243,0\\n-1.4247,-2.6538,0\\n0.33557,-1.006,0\\n-3.4953,-3.5409,0\\n-2.5846,-0.46827,0\\n0.78723,4.1369,0\\n3.6263,1.7287,0\\n-4.8636,0.91721,0\\n-0.7445,1.4173,0\\n-2.0599,4.4434,0\\n4.4268,0.31444,0\\n0.58895,3.2405,0\\n1.4303,-3.7369,0\\n0.45765,4.7686,0\\n4.351,1.7599,0\\n1.2909,0.17961,0\\n-3.7969,-2.8193,0\\n0.2572,-2.9155,0\\n-3.2092,0.79773,0\\n-1.0371,2.3636,0\\n3.5175,1.3022,0\\n-0.26386,3.4119,0\\n-1.4927,-1.7355,0\\n-1.3552,4.6326,0\\n-1.7912,-3.2156,0\\n2.4783,-3.4335,0\\n1.3041,-1.5655,0\\n-3.7407,-0.62271,0\\n1.8871,-1.7691,0\\n-3.8384,2.6043,0\\n-3.5382,-2.1769,0\\n-2.3207,2.3061,0\\n-2.8953,-1.0747,0\\n-0.86564,-2.0352,0\\n-2.7178,0.58094,0\\n-1.6846,-1.4248,0\\n2.2974,0.79525,0\\n-3.2896,-0.49154,0\\n-2.9155,3.1372,0\\n-1.6468,1.6031,0\\n4.5437,0.56013,0\\n-3.2811,3.3188,0\\n-2.0605,0.54979,0\\n-4.1448,-0.62495,0\\n-0.23511,-0.73322,0\\n-3.4541,-3.1475,0\\n-3.963,-2.9025,0\\n1.6141,3.5338,0\\n-0.52824,-0.0037012,0\\n-0.65828,-3.4595,0\\n0.81585,-3.4123,0\\n-1.6716,-2.1392,0\\n-0.089832,-1.707,0\\n0.55185,-2.3907,0\\n3.7335,-2.6564,0\\n-1.5379,3.8105,0\\n0.34497,-1.3487,0\\n-3.3164,-2.652,0\\n1.5658,1.0625,0\\n1.1508,-3.384,0\\n3.9641,-0.63153,0\\n-0.56954,-4.3108,0\\n-1.3759,-1.8548,0\\n0.031848,-1.5675,0\\n4.2755,0.77271,0\\n3.8624,-0.22774,0\\n-0.28679,-1.733,0\\n-2.7471,1.475,0\\n3.0186,1.2126,0\\n-0.61015,4.5897,0\\n-1.5907,4.7196,0\\n0.7597,-1.7443,0\\n0.76545,1.9045,0\\n-0.18126,2.7917,0\\n-3.5783,-1.6369,0\\n4.4055,-2.0424,0\\n0.38938,0.10154,0\\n-4.4503,0.09437,0\\n3.5662,-2.4705,0\\n2.4146,-1.1817,0\\n2.599,2.9289,0\\n1.5564,-2.4148,0\\n-1.4972,-3.5488,0\\n0.95,-1.3773,0\\n-0.086913,1.8473,0\\n-0.39121,-1.0186,0\\n-2.1422,1.5757,0\\n-0.53308,-2.5283,0\\n-1.0079,-4.5165,0\\n1.6058,-1.7334,0\\n3.4711,-3.0299,0\\n-0.24577,-0.96095,0\\n-4.253,-1.5966,0\\n-3.6517,-3.2443,0\\n0.057835,1.0904,0\\n2.9339,-1.7827,0\\n0.64268,-4.2875,0\\n-1.7256,-0.2067,0\\n-0.70998,-4.3582,0\\n-0.62505,2.1902,0\\n-3.853,1.6732,0\\n1.935,0.908,0\\n-4.6203,-1.6129,0\\n-2.6403,-3.7184,0\\n-4.0107,0.46358,0\\n-0.17062,1.3702,0\\n-1.6971,4.6068,0\\n0.87297,3.3474,0\\n-3.7676,1.7563,0\\n-1.4697,-3.4535,0\\n-2.326,3.2462,0\\n3.5976,-3.0382,0\\n-0.47464,1.6049,0\\n-3.7909,0.0019702,0\\n2.8188,-1.4792,0\\n-0.4474,-1.2056,0\\n-0.65371,4.8056,0\\n3.562,-3.2181,0\\n-2.2775,-1.2243,0\\n-0.0059212,1.8239,0\\n-3.4485,1.6408,0\\n-4.0023,0.71797,0\\n1.0958,1.5274,0\\n0.003116,-2.1094,0\\n-4.071,-1.2765,0\\n-3.744,2.2688,0\\n1.9386,-0.34561,0\\n-0.59302,3.7187,0\\n-3.756,-0.059148,0\\n1.1229,3.104,0\\n-1.0322,-1.475,0\\n-2.0263,0.36183,0\\n2.3693,-1.4065,0\\n-1.5563,1.1339,0\\n-1.0497,-4.5893,0\\n1.0572,-0.96127,0\\n-3.9431,-2.3832,0\\n0.9926,-1.8467,0\\n2.2726,1.3503,0\\n0.6416,-1.879,0\\n4.8346,0.11753,0\\n4.5729,0.35959,0\\n-2.3704,3.5267,0\\n-1.4334,1.9415,0\\n-3.0356,-13.024,1\\n11.405,-6.0184,1\\n4.2581,-12.661,1\\n-10.014,-6.4801,1\\n-10.633,-5.5758,1\\n12.728,-1.3468,1\\n2.6847,-14.558,1\\n12.732,-7.3083,1\\n-10.742,-5.3103,1\\n12.757,-6.277,1\\n-13.5,-5.1316,1\\n1.0874,-12.765,1\\n6.576,-8.9721,1\\n1.1637,-14.633,1\\n-13.895,-5.1284,1\\n3.173,-12.679,1\\n11.725,-4.2555,1\\n9.1146,-11.242,1\\n-3.3489,-14.453,1\\n-9.7138,-10.717,1\\n-8.782,-10.346,1\\n-10.579,-5.3617,1\\n-12.9,-2.8263,1\\n14.228,-0.15276,1\\n0.1417,-12.112,1\\n-6.4665,-9.9959,1\\n-3.4626,-13.431,1\\n-14.232,-4.5529,1\\n-1.1722,-13.173,1\\n-14.522,-0.53449,1\\n3.739,-13.653,1\\n13.449,-1.8336,1\\n11.884,-5.3417,1\\n-0.10934,-13.591,1\\n-12.569,-1.5428,1\\n12.227,-6.7879,1\\n-4.2143,-13.686,1\\n13.766,-3.67,1\\n5.2008,-12.291,1\\n9.7627,-11.051,1\\n-13.707,-5.5077,1\\n6.606,-11.945,1\\n-4.473,-11.953,1\\n-11.929,-6.3211,1\\n-10.568,-4.5409,1\\n13.693,-2.6415,1\\n1.9382,-13.417,1\\n-1.7068,-13.189,1\\n-13.267,-6.3681,1\\n8.8579,-11.571,1\\n-9.9476,-10.215,1\\n13.284,-2.3809,1\\n12.829,-7.6843,1\\n11.286,-3.1538,1\\n7.7865,-8.1546,1\\n11.652,-8.0359,1\\n-8.2188,-6.4058,1\\n8.9546,-10.457,1\\n13.71,-2.4941,1\\n-7.9954,-11.17,1\\n3.0321,-13.161,1\\n-3.4215,-12.89,1\\n-8.1166,-11.177,1\\n-2.0106,-12.849,1\\n3.5027,-13.041,1\\n-10.392,-4.3262,1\\n-9.7134,-4.4252,1\\n5.0148,-13.867,1\\n13.158,-5.6368,1\\n7.8008,-7.9656,1\\n12.926,-6.7814,1\\n11.644,-5.4941,1\\n12.413,-2.6701,1\\n0.19369,-12.344,1\\n4.8325,-11.826,1\\n-13.303,-1.572,1\\n6.801,-9.0529,1\\n-14.118,-2.9061,1\\n-13.394,-2.2189,1\\n13.636,-4.2246,1\\n13.146,-6.8299,1\\n2.2598,-14.436,1\\n-13.826,-3.5113,1\\n-1.3253,-10.668,1\\n12.132,-5.0703,1\\n-12.766,-5.3025,1\\n-0.89075,-14.714,1\\n-6.8542,-9.1927,1\\n11.914,-8.1433,1\\n13.022,-1.7444,1\\n-12.66,-0.62711,1\\n7.4464,-13.004,1\\n-12.53,-5.4721,1\\n-12.836,-7.4016,1\\n4.9078,-13.46,1\\n12.188,-5.0243,1\\n-12.204,-7.919,1\\n2.7879,-14.333,1\\n-14.588,-1.9421,1\\n-0.26306,-11.903,1\\n6.7626,-9.8734,1\\n-7.3566,-9.0698,1\\n11.412,-7.3461,1\\n5.807,-9.8687,1\\n14.781,-1.3947,1\\n11.04,-7.0633,1\\n1.3227,-14.404,1\\n-11.667,-4.2386,1\\n9.0899,-9.3601,1\\n-8.9008,-9.7371,1\\n-4.3478,-10.031,1\\n-13.806,-1.5273,1\\n9.6535,-5.0125,1\\n-5.1148,-13.658,1\\n-3.5872,-14.413,1\\n12.147,-0.91994,1\\n0.43949,-12.78,1\\n2.5514,-11.853,1\\n6.1996,-12.199,1\\n-3.6911,-14.337,1\\n-4.5365,-10.837,1\\n-0.80203,-14.114,1\\n11.423,-9.3425,1\\n11.849,-5.2087,1\\n-7.4129,-9.3148,1\\n-12.532,-4.1987,1\\n5.9692,-12.797,1\\n4.9785,-12.287,1\\n-7.3172,-11.346,1\\n1.9523,-14.113,1\\n-0.2506,-13.609,1\\n12.548,-7.556,1\\n-12.488,-5.1808,1\\n-4.9974,-11.313,1\\n12.172,-5.4857,1\\n-14.025,-3.8769,1\\n13.084,-4.1211,1\\n0.17354,-10.804,1\\n-13.907,-3.0414,1\\n7.2729,-10.566,1\\n10.43,-8.5749,1\\n-4.2182,-14.035,1\\n9.2467,-11.574,1\\n-11.218,-5.3222,1\\n-12.362,-7.713,1\\n-5.4029,-10.13,1\\n6.7673,-10.144,1\\n-9.1974,-7.1852,1\\n-4.4422,-13.306,1\\n-13.358,-2.2756,1\\n11.995,-0.023112,1\\n-13.232,-2.2261,1\\n-14.949,-0.69953,1\\n-13.197,-1.4017,1\\n-6.5085,-9.0774,1\\n10.88,-9.6927,1\\n6.1626,-13.154,1\\n14.073,-4.1051,1\\n14.595,-1.126,1\\n11.976,-6.5324,1\\n-12.579,-3.8003,1\\n-10.661,-9.7086,1\\n-5.084,-13.617,1\\n12.174,-2.6761,1\\n12.668,-5.5104,1\\n-4.6374,-11.586,1\\n-14.828,-0.57351,1\\n3.7356,-10.872,1\\n12.904,-4.1038,1\\n-11.25,-3.0504,1\\n-9.2931,-10.256,1\\n-8.1253,-10.158,1\\n-6.2893,-11.575,1\\n-14.158,-1.9547,1\\n8.2584,-11.275,1\\n-0.23387,-10.585,1\\n-4.2318,-11.635,1\\n5.654,-12.223,1\\n6.2636,-11.052,1\\n-5.9079,-11.786,1\\n-7.9495,-12.142,1\\n10.719,-5.2511,1\\n-9.5648,-7.2569,1\\n-3.7282,-11.994,1\\n-3.1391,-12.884,1\\n-12.611,-2.6097,1\\n-6.1671,-12.338,1\\n6.9904,-11.08,1\\n-0.45578,-13.687,1\\n12.303,-1.6985,1\\n6.2864,-11.143,1\\n-11.878,-9.0367,1\\n13.591,-0.22701,1\\n13.076,-3.7536,1\\n-14.488,-2.695,1\\n10.78,-2.0099,1\\n-9.692,-8.8175,1\\n6.4311,-13.222,1\\n3.6597,-14.445,1\\n-9.732,-6.9656,1\\n5.3283,-12.63,1\\n8.1645,-10.628,1\\n-11.308,-6.7851,1\\n11.833,-6.0049,1\\n-11.59,-0.53196,1\\n9.6439,-10.411,1\\n11.909,-0.42732,1\\n14.541,-1.7932,1\\n7.4509,-10.817,1\\n4.7592,-11.563,1\\n6.2431,-10.371,1\\n-6.3512,-12.308,1\\n4.233,-11.479,1\\n12.834,-4.5592,1\\n-8.9246,-11.516,1\\n-2.3724,-11.928,1\\n-9.4734,-9.2418,1\\n-3.2797,-10.096,1\\n8.0846,-12.35,1\\n0.22345,-12.067,1\\n12.316,-7.3555,1\\n11.128,-2.7191,1\\n-4.9136,-13.943,1\\n11.856,-4.7791,1\\n-8.2625,-10.867,1\\n13.507,-1.6944,1\\n-12.736,-5.0538,1\\n6.6158,-11.768,1\\n2.3249,-14.454,1\\n-2.0451,-11.814,1\\n-12.565,-7.9247,1\\n-0.72136,-14.825,1\\n7.3383,-10.845,1\\n0.40448,-11.446,1\\n3.6045,-10.363,1\\n-8.3206,-8.4044,1\\n-11.7,-5.6781,1\\n-8.6599,-9.1288,1\\n8.4892,-10.94,1\\n-0.19403,-14.988,1\\n-9.6065,-6.3278,1\\n-3.3965,-12.518,1\\n4.32,-11.275,1\\n14.717,-1.6932,1\\n-10.783,-5.8193,1\\n-11.036,-6.287,1\\n7.2527,-7.0823,1\\n-3.3735,-13.845,1\\n-12.581,-5.2907,1\\n0.42688,-14.733,1\\n13.708,-4.7224,1\\n13.817,-2.825,1\\n-10.058,-6.2202,1\\n-2.2862,-14.474,1\\n-10.083,-10.413,1\\n-1.8813,-14.802,1\\n-0.33408,-13.938,1\\n-6.8128,-12.847,1\\n7.9262,-7.004,1\\n10.312,-7.1042,1\\n-13.311,-5.0225,1\\n9.6285,-8.5861,1\\n-14.145,-2.9764,1\\n13.079,-6.3036,1\\n-12.77,-6.1976,1\\n-0.79809,-13.363,1\\n8.9019,-11.874,1\\n10.949,-6.8016,1\\n-13.794,-2.9273,1\\n-11.366,-4.8917,1\\n-10.205,-7.9798,1\\n-14.456,-2.3931,1\\n5.5088,-13.652,1\\n-2.6501,-12.956,1\\n5.9508,-11.815,1\\n-13.372,-0.29874,1\\n12.896,-6.8422,1\\n12.798,-5.1212,1\\n-12.453,-7.6601,1\\n-7.4193,-10.99,1\\n12.815,-2.5929,1\\n5.8317,-12.647,1\\n8.5921,-12.01,1\\n5.7034,-10.95,1\\n-8.4564,-6.9605,1\\n-10.597,-3.5427,1\\n11.998,-5.7982,1\\n-11.567,-3.4268,1\\n12.344,-5.615,1\\n-6.7242,-13.159,1\\n-14.407,-1.8357,1\\n9.7705,-8.7255,1\\n-8.4437,-10.045,1\\n-5.3605,-12.06,1\\n7.6396,-12.615,1\\n1.2934,-11.873,1\\n12.754,-3.7917,1\\n-5.2096,-9.2873,1\\n-9.8642,-11.098,1\\n-1.0199,-12.922,1\\n3.3005,-13.069,1\\n-12.549,-1.2766,1\\n-13.92,-2.7431,1\\n-12.045,-2.7496,1\\n-13.195,-2.2337,1\\n2.3591,-12.423,1\\n13.457,-2.1108,1\\n-11.602,-7.3286,1\\n11.606,-1.0235,1\\n-3.2582,-14.517,1\\n-6.1557,-12.794,1\\n7.8672,-12.508,1\\n8.7168,-8.2601,1\\n11.528,-6.7817,1\\n-5.5374,-11.561,1\\n-5.7919,-10.42,1\\n-7.7311,-11.396,1\\n11.148,-9.4798,1\\n7.6279,-7.5923,1\\n10.262,-9.1069,1\\n11.203,-9.9103,1\\n-12.771,-0.78554,1\\n-6.2698,-13.39,1\\n-5.6024,-11.784,1\\n-12.032,-4.8094,1\\n-13.361,-0.77868,1\\n-6.5913,-12.693,1\\n10.871,-1.6881,1\\n7.8894,-9.4699,1\\n-2.7847,-14.429,1\\n11.487,-7.9405,1\\n-6.2476,-11.892,1\\n-9.7162,-9.6794,1\\n3.8907,-14.018,1\\n-2.3555,-13.046,1\\n-10.892,-9.6663,1\\n13.055,-4.0326,1\\n-14.697,-0.81358,1\\n-3.4053,-13.896,1\\n-10.329,-6.3112,1\\n-10.126,-3.8255,1\\n-13.417,-5.0981,1\\n11.683,-8.0115,1\\n13.868,-0.94882,1\\n5.4524,-13.448,1\\n-8.7248,-8.4688,1\\n-13.66,-4.6543,1\\n-11.711,-6.7027,1\\n7.1572,-10.026,1\\n-10.35,-10.25,1\\n-9.9491,-9.1267,1\\n-4.8549,-11.397,1\\n6.5292,-10.151,1\\n4.1017,-12.401,1\\n13.761,-5.2431,1\\n6.797,-11.926,1\\n-10.998,-1.473,1\\n-12.711,-7.6682,1\\n-11.412,-3.8588,1\\n-13.316,-3.222,1\\n-12.653,-2.2372,1\\n-7.8324,-7.0134,1\\n-2.5068,-13.941,1\\n-4.1263,-13.619,1\\n-6.2054,-10.57,1\\n3.8285,-11.793,1\\n-11.597,-7.0501,1\\n10.003,-7.7104,1\\n12.072,-7.8416,1\\n-0.48983,-14.206,1\\n-11.486,-3.4572,1\\n-8.5893,-11.321,1\\n12.046,-3.7122,1\\n-8.7381,-10.562,1\\n-6.3429,-9.9514,1\\n13.852,-4.6741,1\\n-12.342,-1.6183,1\\n8.5783,-10.316,1\\n6.8442,-12.842,1\\n0.44818,-14.886,1\\n2.0575,-13.62,1\\n13.58,-0.001661,1\\n-12.812,-2.0555,1\\n-0.99196,-14.398,1\\n8.0279,-12.581,1\\n10.265,-3.3974,1\\n10.126,-6.3845,1\\n14.012,-5.3377,1\\n13.622,-3.8663,1\\n11.896,-4.5535,1\\n-12.849,-3.5334,1\\n-8.1223,-12.238,1\\n9.6523,-8.7939,1\\n-14.158,-0.12282,1\\n11.716,-8.4511,1\\n9.8638,-10.399,1\\n-1.5564,-11.22,1\\n6.9194,-8.2823,1\\n12.306,-4.3892,1\\n-7.9984,-8.0029,1\\n2.8564,-12.769,1\\n9.5334,-11.56,1\\n-8.1554,-10.813,1\\n-8.3845,-12.153,1\\n3.198,-11.372,1\\n-8.0751,-10.036,1\\n6.5283,-9.9634,1\\n-6.4206,-10.89,1\\n-11.726,-6.7621,1\\n6.8946,-12.313,1\\n-10.218,-9.1309,1\\n-14.287,-4.3417,1\\n-14.378,-2.2985,1\\n-3.932,-10.151,1\\n3.9193,-13.738,1\\n10.808,-4.314,1\\n-13.458,-5.0176,1\\n13.616,-3.7696,1\\n-13.863,-5.4025,1\\n-13.091,-6.7242,1\\n-8.601,-8.6151,1\\n-1.6083,-13.707,1\\n-7.4829,-10.992,1\\n12.595,-6.4306,1\\n12.01,-4.4712,1\\n11.356,-8.7968,1\\n1.7862,-14.589,1\\n-6.119,-12.269,1\\n-3.4857,-14.07,1\\n-11.227,-5.2346,1\\n-2.063,-13.064,1\\n12.638,-3.4483,1\\n-8.043,-9.6567,1\\n13.629,-0.28175,1\\n13.345,-5.9844,1\\n11.798,-3.5324,1\\n10.817,-3.4449,1\\n-8.0199,-7.608,1\\n6.7562,-13.114,1\\n14.625,-0.67679,1\\n-3.2109,-13.731,1\\n-13.221,-6.8097,1\\n12.678,-7.1919,1\\n-1.64,-13.313,1\\n-13.544,-0.70596,1\\n14.65,-1.9855,1\\n-12.731,-2.1195,1\\n7.4847,-7.9541,1\\n-8.1573,-12.57,1\\n-2.5207,-11.576,1\\n11.042,-2.3346,1\\n-2.405,-11.527,1\\n-5.2038,-12.683,1\\n6.1293,-10.788,1\\n-13.414,-6.1152,1\\n0.45568,-14.115,1\\n-1.3467,-14.391,1\\n10.481,-9.1748,1\\n12.139,-1.0862,1\\n-2.2552,-11.712,1\\n-14.215,-0.73749,1\\n-2.801,-13.761,1\\n-13.398,-2.6042,1\\n-5.5249,-9.3987,1\\n-1.3186,-14.467,1\\n6.5867,-12.624,1\\n-5.71,-8.939,1\\n-5.6352,-11.688,1\\n3.5613,-10.027,1\\n-7.6438,-11.103,1\\n-6.9928,-8.9099,1\\n-9.8635,-4.2483,1\\n11.355,-9.2441,1\\n-12.376,-8.4746,1\\n12.32,-0.87306,1\\n11.888,-8.3107,1\\n13.482,-5.1342,1\\n7.5576,-12.898,1\\n-13.648,-4.6072,1\\n-14.318,-1.9564,1\\n-11.116,-8.0327,1\\n-1.132,-10.093,1\\n-13.959,-0.11445,1\\n-11.854,-4.8338,1\\n-14.294,-1.1907,1\\n14.671,-0.30499,1\\n7.6797,-8.9771,1\\n-13.193,-4.6066,1\\n-13.075,-3.2695,1\\n-10.485,-6.9758,1\\n2.3489,-11.93,1\\n-4.6126,-10.216,1\\n-13.69,-5.3948,1\\n-10.563,-7.0366,1\\n9.5646,-11.078,1\\n-12.665,-3.1664,1\\n3.0681,-13.999,1\\n14.286,-4.3764,1\\n14.796,-2.45,1\\n-9.2874,-9.844,1\\n-0.24288,-12.691,1\\n14.137,-1.5279,1\\n-9.9511,-5.7534,1\\n13.752,-4.7485,1\\n-9.3775,-8.6772,1\\n-5.0233,-11.902,1\\n-11.866,-5.1622,1\\n5.7632,-9.8707,1\\n12.939,-0.37712,1\\n-14.005,-0.04953,1\\n7.643,-11.847,1\\n-8.0146,-7.8766,1\\n-7.5429,-10.952,1\\n2.7442,-12.949,1\\n11.956,-4.8132,1\\n-11.521,-8.9591,1\\n-12.742,-1.4918,1\\n2.8789,-11.434,1\\n8.4747,-10.551,1\\n2.5774,-14.372,1\\n13.702,-3.8032,1\\n13.257,-3.7733,1\\n4.0831,-10.823,1\\n-11.504,-0.80301,1\\n-13.61,-4.1006,1\\n-5.5193,-11.971,1\\n0.86381,-11.387,1\\n-6.1313,-13.157,1\\n-10.164,-4.0257,1\\n-2.2813,-12.336,1\\n13.445,-6.2166,1\\n-6.6697,-12.148,1\\n-12.98,-4.8388,1\\n-1.7742,-12.328,1\\n-10.229,-6.5597,1\\n5.6858,-9.6294,1\\n-2.7152,-14.157,1\\n10.16,-10.442,1\\n-14.266,-2.6898,1\\n-12.205,-6.8287,1\\n13.036,-6.6427,1\\n-3.5397,-13.867,1\\n-11.191,-1.4669,1\\n13.047,-4.9902,1\\n-0.86463,-14.472,1\\n10.556,-9.6409,1\\n-8.5068,-7.658,1\\n14.754,-2.0704,1\\n-11.213,-2.3623,1\\n14.229,-3.6472,1\\n2.0527,-14.254,1\\n-9.3685,-4.8787,1\\n-5.264,-8.8126,1\\n0.42208,-12.902,1\\n12.037,-3.824,1\\n-12.945,-6.7741,1\\n-12.42,-6.7943,1\\n-14.913,-1.573,1\\n8.0717,-10.799,1\\n14.389,-0.4966,1\\n13.737,-3.1301,1\\n6.663,-12.415,1\\n2.2283,-14.11,1\\n-8.8813,-10.12,1\\n-4.1745,-14.293,1\\n12.745,-4.4082,1\\n6.6141,-11.075,1\\n10.74,-9.2179,1\\n-7.2502,-12.008,1\\n-3.4142,-12.504,1\\n-13.321,-4.0353,1\\n5.9472,-12.933,1\\n11.343,-8.1006,1\\n-2.4253,-11.95,1\\n-12.777,-6.1306,1\\n13.297,-0.37475,1\\n-14.949,-0.26165,1\\n-11.837,-5.6505,1\\n-11.208,-9.4875,1\\n2.7622,-11.821,1\\n10.499,-4.4104,1\\n-12.775,-1.6264,1\\n-11.739,-4.9306,1\\n4.7814,-12.955,1\\n2.3358,-11.357,1\\n7.653,-12.24,1\\n-10.257,-8.3925,1\\n-14.587,-3.3328,1\\n10.825,-8.1789,1\\n-14.396,-0.036728,1\\n-14.657,-1.5976,1\\n1.6301,-10.617,1\\n14.889,-1.7157,1\\n-6.4348,-13.536,1\\n12.5,-2.6304,1\\n8.6617,-11.54,1\\n-4.135,-11.058,1\\n-4.0428,-13.25,1\\n11.855,-6.4576,1\\n12.367,-1.575,1\\n0.2587,-13.204,1\\n0.29276,-13.792,1\\n5.4352,-10.594,1\\n-11.069,-1.7128,1\\n-5.5377,-12.546,1\\n9.1257,-10.968,1\\n-13.415,-5.7181,1\\n6.2682,-12.531,1\\n9.8474,-7.0646,1\\n-3.0716,-12.534,1\\n-1.53,-13.815,1\\n3.5084,-13.934,1\\n1.338,-14.916,1\\n-2.1521,-12.99,1\\n-9.3121,-4.8966,1\\n-7.5652,-8.6483,1\\n6.0653,-11.558,1\\n11.226,-2.443,1\\n-5.8082,-13.008,1\\n11.737,-1.4866,1\\n9.2588,-11.548,1\\n10.739,-3.6626,1\\n-13.179,-1.0282,1\\n13.445,-5.0065,1\\n7.3864,-8.8942,1\\n-11.697,-3.4834,1\\n12.143,-4.2231,1\\n11.216,-7.9929,1\\n10.322,-0.70916,1\\n7.2114,-10.83,1\\n9.781,-9.9876,1\\n13.944,-2.1913,1\\n-10.54,-9.7724,1\\n-10.85,-4.0594,1\\n-11.485,-9.5257,1\\n-8.292,-11.791,1\\n-13.528,-0.51923,1\\n-11.641,-0.76571,1\\n3.3081,-14.133,1\\n-11.893,-2.8666,1\\n-10.683,-8.7662,1\\n-14.281,-0.41394,1\\n-13.019,-5.8502,1\\n-10.373,-9.3009,1\\n-2.8864,-12.354,1\\n6.7227,-12.282,1\\n-13.763,-5.2896,1\\n-0.99713,-14.499,1\\n9.1205,-6.7377,1\\n-10.005,-5.2787,1\\n11.632,-8.0815,1\\n12.007,-3.4421,1\\n6.4484,-11.918,1\\n-8.2221,-8.3956,1\\n-10.404,-8.7996,1\\n5.1025,-12.944,1\\n-5.705,-12.173,1\\n12.481,-7.4901,1\\n-13.847,-3.2596,1\\n-11.501,-8.5209,1\\n-12.587,-0.031017,1\\n-10.585,-10.385,1\\n10.44,-4.0603,1\\n-11.353,-5.5936,1\\n-13.755,-0.45732,1\\n12.376,-3.648,1\\n2.948,-11.401,1\\n12.582,-4.3701,1\\n-0.091469,-14.975,1\\n11.469,-1.6519,1\\n-11.541,-1.6088,1\\n0.31628,-14.562,1\\n-0.95332,-13.598,1\\n-13.353,-0.32902,1\\n-5.5597,-9.1585,1\\n-12.1,-2.6958,1\\n-12.381,-8.3861,1\\n-0.022333,-13.303,1\\n-12.894,-5.5805,1\\n2.9342,-9.7274,1\\n-8.9356,-9.1806,1\\n-13.643,-2.8945,1\\n-0.38989,-10.963,1\\n1.7019,-11.589,1\\n-0.41936,-14.552,1\\n-12.296,-4.6936,1\\n11.475,-7.0189,1\\n13.241,-6.6575,1\\n7.5838,-10.687,1\\n-11.857,-3.7556,1\\n13.438,-0.079016,1\\n12.669,-0.76349,1\\n-9.7285,-9.8951,1\\n-2.8307,-12.335,1\\n14.115,-1.1624,1\\n10.34,-3.3966,1\\n-8.5447,-9.6131,1\\n2.234,-14.011,1\\n-4.1257,-11.962,1\\n8.2666,-5.7789,1\\n6.854,-9.5981,1\\n12.508,-0.00010778,1\\n-9.5521,-7.0213,1\\n12.546,-6.279,1\\n0.36402,-13.781,1\\n6.67,-11.283,1\\n-11.254,-5.378,1\\n-9.5326,-7.296,1\\n11.629,-0.3206,1\\n12.88,-1.2911,1\\n-12.027,-6.9654,1\\n-7.1121,-10.318,1\\n-3.8992,-12.384,1\\n4.2083,-9.3429,1\\n-12.697,-7.7098,1\\n-8.551,-11.588,1\\n14.578,-2.0138,1\\n5.1875,-10.056,1\\n-11.139,-7.081,1\\n8.9664,-7.6475,1\\n-2.6608,-11.471,1\\n2.5763,-13.898,1\\n-10.938,-9,1\\n4.7256,-12.221,1\\n10.938,-9.5819,1\\n0.79906,-13.554,1\\n-5.1302,-12.44,1\\n5.4914,-13.664,1\\n0.31696,-14.757,1\\n9.4885,-11.418,1\\n-10.651,-5.16,1\\n-7.2185,-11.829,1\\n4.6247,-12.397,1\\n4.5824,-10.406,1\\n12.081,-6.435,1\\n1.9574,-13.727,1\\n-1.12,-14.618,1\\n2.301,-12.261,1\\n6.205,-12.656,1\\n5.0458,-11.524,1\\n13.771,-2.2587,1\\n11.235,-8.0369,1\\n7.1098,-11.704,1\\n-1.2617,-11.954,1\\n12.706,-3.4003,1\\n4.822,-13.558,1\\n5.4765,-12.445,1\\n11.183,-6.134,1\\n-2.3372,-14.045,1\\n6.0039,-13.689,1\\n'}"
            ]
          },
          "metadata": {
            "tags": []
          },
          "execution_count": 2
        }
      ]
    },
    {
      "metadata": {
        "id": "JJPednVTGg6S",
        "colab_type": "code",
        "colab": {}
      },
      "cell_type": "code",
      "source": [
        "import pandas as pd\n",
        "import numpy as np\n",
        "import matplotlib as plt"
      ],
      "execution_count": 0,
      "outputs": []
    },
    {
      "metadata": {
        "id": "uumGIBz8GkWs",
        "colab_type": "code",
        "colab": {}
      },
      "cell_type": "code",
      "source": [
        "data=pd.read_csv('Moon.txt', header=None)"
      ],
      "execution_count": 0,
      "outputs": []
    },
    {
      "metadata": {
        "id": "rqxIVZ8AGmHF",
        "colab_type": "code",
        "colab": {}
      },
      "cell_type": "code",
      "source": [
        "col_names=['x1','x2','c']\n",
        "data.columns=col_names"
      ],
      "execution_count": 0,
      "outputs": []
    },
    {
      "metadata": {
        "id": "lWgSrrIOGoGS",
        "colab_type": "code",
        "colab": {}
      },
      "cell_type": "code",
      "source": [
        "def sigmoid(z):\n",
        "  return 1/(1+np.exp(-z))\n",
        "\n",
        "def grad(z):\n",
        "  return z*(1-z)"
      ],
      "execution_count": 0,
      "outputs": []
    },
    {
      "metadata": {
        "id": "5hcqZAxnGqZr",
        "colab_type": "code",
        "outputId": "c74cfdd6-c001-468e-aa5b-745c2cf5576f",
        "colab": {
          "base_uri": "https://localhost:8080/",
          "height": 52
        }
      },
      "cell_type": "code",
      "source": [
        "feature_cols=[\"x1\", \"x2\"]\n",
        "X=np.array(data[feature_cols])\n",
        "\n",
        "X\n",
        "\n",
        "Y=data.c\n",
        "Y=np.reshape(Y,(1000,1))\n",
        "\n",
        "\n"
      ],
      "execution_count": 0,
      "outputs": [
        {
          "output_type": "stream",
          "text": [
            "/usr/local/lib/python3.6/dist-packages/numpy/core/fromnumeric.py:52: FutureWarning: reshape is deprecated and will raise in a subsequent release. Please use .values.reshape(...) instead\n",
            "  return getattr(obj, method)(*args, **kwds)\n"
          ],
          "name": "stderr"
        }
      ]
    },
    {
      "metadata": {
        "id": "q1JfMngyHpVb",
        "colab_type": "code",
        "colab": {}
      },
      "cell_type": "code",
      "source": [
        "np.random.seed(1)\n",
        "\n",
        "synaptic_weights1 = 2 * np.random.random((2, 3)) -1\n",
        "synaptic_weights2 = 2 * np.random.random((3, 3)) -1\n",
        "synaptic_weights3 = 2 * np.random.random((3, 1)) -1\n",
        "\n",
        "\n",
        "from sklearn.model_selection import train_test_split\n",
        "X_train, X_test, Y_train, Y_test=train_test_split(X,Y, test_size=0.15, random_state= 42)\n",
        "  \n",
        "for iteration in range(10000):\n",
        "\n",
        "    a2 = sigmoid(np.dot(X_train, synaptic_weights1))\n",
        "    a3 = sigmoid(np.dot(a2, synaptic_weights2))\n",
        "    output = sigmoid(np.dot(a3, synaptic_weights3))\n",
        "\n",
        "  \t# calculate 'error'\n",
        "    del4 = (Y_train - output)*grad(output)\n",
        "\n",
        "    # find 'errors' in each layer\n",
        "    del3 = np.dot(synaptic_weights3, del4.T)*(grad(a3).T)\n",
        "    del2 = np.dot(synaptic_weights2, del3)*(grad(a2).T)\n",
        "\n",
        "    # get gradients for each layer\n",
        "    grad3 = np.dot(a3.T, del4)\n",
        "    grad2 = np.dot(a2.T, del3.T)\n",
        "    grad1 = np.dot(X_train.T, del2.T)\n",
        "\n",
        "    # adjust weights \n",
        "    synaptic_weights1 += grad1\n",
        "    synaptic_weights2 += grad2\n",
        "    synaptic_weights3 += grad3\n",
        "    \n",
        "def forward_pass(inputs):\n",
        "  \n",
        "\t\ta2 = sigmoid(np.dot(inputs, synaptic_weights1))\n",
        "\t\ta3 = sigmoid(np.dot(a2, synaptic_weights2))\n",
        "\t\toutput = sigmoid(np.dot(a3,synaptic_weights3)) \n",
        "\t\treturn output"
      ],
      "execution_count": 0,
      "outputs": []
    },
    {
      "metadata": {
        "id": "aPQuQenXKJlB",
        "colab_type": "code",
        "outputId": "1e929de9-b413-4f6a-ffef-ca0a16cc4114",
        "colab": {
          "base_uri": "https://localhost:8080/",
          "height": 52
        }
      },
      "cell_type": "code",
      "source": [
        "synaptic_weights1"
      ],
      "execution_count": 0,
      "outputs": [
        {
          "output_type": "execute_result",
          "data": {
            "text/plain": [
              "array([[-1.97274109, -0.06979549, -2.06818756],\n",
              "       [ 0.65395801, -1.01627545,  0.56094684]])"
            ]
          },
          "metadata": {
            "tags": []
          },
          "execution_count": 36
        }
      ]
    },
    {
      "metadata": {
        "id": "AUdwGNmIKh_B",
        "colab_type": "code",
        "colab": {}
      },
      "cell_type": "code",
      "source": [
        "preds=forward_pass(X_test)\n",
        "\n",
        "preds.round()\n",
        "\n",
        "Preds=[]\n",
        "for i in preds:\n",
        "  if i<0.5:\n",
        "    Preds.append(0)\n",
        "  else:\n",
        "    Preds.append(1)\n",
        "    \n",
        "Test=[]\n",
        "\n",
        "for j in Y_test:\n",
        "  if j<0.5:\n",
        "    Test.append(0)\n",
        "  else:\n",
        "    Test.append(1)"
      ],
      "execution_count": 0,
      "outputs": []
    },
    {
      "metadata": {
        "id": "Q8A6ior3Lw2W",
        "colab_type": "code",
        "outputId": "d23e8be3-9a14-49f4-bc23-9e2c455acbf0",
        "colab": {
          "base_uri": "https://localhost:8080/",
          "height": 35
        }
      },
      "cell_type": "code",
      "source": [
        "from sklearn.metrics import f1_score\n",
        "f1_score(Preds,Test)"
      ],
      "execution_count": 0,
      "outputs": [
        {
          "output_type": "execute_result",
          "data": {
            "text/plain": [
              "0.8636363636363636"
            ]
          },
          "metadata": {
            "tags": []
          },
          "execution_count": 50
        }
      ]
    },
    {
      "metadata": {
        "id": "AHLw-yMHP9bb",
        "colab_type": "code",
        "colab": {}
      },
      "cell_type": "code",
      "source": [
        ""
      ],
      "execution_count": 0,
      "outputs": []
    }
  ]
}